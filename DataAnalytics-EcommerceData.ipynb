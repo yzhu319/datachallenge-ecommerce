{
 "cells": [
  {
   "cell_type": "markdown",
   "metadata": {},
   "source": [
    "# E-commerce transaction data analysis\n",
    "\n",
    "Yuanzheng Zhu\n",
    "\n",
    "## Problem overview\n",
    "\n",
    "We have visitors and orders data, find business insight from data analysis, like potential growth opportunities.\n"
   ]
  },
  {
   "cell_type": "code",
   "execution_count": 13,
   "metadata": {},
   "outputs": [],
   "source": [
    "import numpy as np\n",
    "import pandas as pd\n",
    "\n",
    "import seaborn as sns\n",
    "import matplotlib.pyplot as plt\n",
    "\n",
    "%matplotlib inline\n",
    "\n",
    "import  warnings\n",
    "warnings.simplefilter('ignore')"
   ]
  },
  {
   "cell_type": "markdown",
   "metadata": {},
   "source": [
    "# Load Data\n",
    "We will take a look into data, a descriptive statistics summary will be provided"
   ]
  },
  {
   "cell_type": "code",
   "execution_count": 14,
   "metadata": {},
   "outputs": [
    {
     "data": {
      "text/html": [
       "<div>\n",
       "<style scoped>\n",
       "    .dataframe tbody tr th:only-of-type {\n",
       "        vertical-align: middle;\n",
       "    }\n",
       "\n",
       "    .dataframe tbody tr th {\n",
       "        vertical-align: top;\n",
       "    }\n",
       "\n",
       "    .dataframe thead th {\n",
       "        text-align: right;\n",
       "    }\n",
       "</style>\n",
       "<table border=\"1\" class=\"dataframe\">\n",
       "  <thead>\n",
       "    <tr style=\"text-align: right;\">\n",
       "      <th></th>\n",
       "      <th>user_id</th>\n",
       "      <th>transaction_id</th>\n",
       "      <th>time</th>\n",
       "      <th>country</th>\n",
       "      <th>items</th>\n",
       "      <th>total</th>\n",
       "      <th>returned_items</th>\n",
       "    </tr>\n",
       "  </thead>\n",
       "  <tbody>\n",
       "    <tr>\n",
       "      <th>0</th>\n",
       "      <td>cadeed9426d287cb9cb651cd7ed4f103</td>\n",
       "      <td>2fa41e338cf91fffba68c6f9fb80add6</td>\n",
       "      <td>1541185315</td>\n",
       "      <td>A</td>\n",
       "      <td>1</td>\n",
       "      <td>18.56</td>\n",
       "      <td>0</td>\n",
       "    </tr>\n",
       "    <tr>\n",
       "      <th>1</th>\n",
       "      <td>bb3936cb7bb0f605d187a52ff5e03438</td>\n",
       "      <td>795caad659fc9038034aaf5ecf873e61</td>\n",
       "      <td>1541185411</td>\n",
       "      <td>A</td>\n",
       "      <td>4</td>\n",
       "      <td>34.02</td>\n",
       "      <td>0</td>\n",
       "    </tr>\n",
       "    <tr>\n",
       "      <th>2</th>\n",
       "      <td>ae2178e497fc7a38917d950e52ff22ec</td>\n",
       "      <td>29fe89653bb7268b3a7ade23387ba326</td>\n",
       "      <td>1541185455</td>\n",
       "      <td>A</td>\n",
       "      <td>15</td>\n",
       "      <td>346.39</td>\n",
       "      <td>0</td>\n",
       "    </tr>\n",
       "    <tr>\n",
       "      <th>3</th>\n",
       "      <td>3421071b1e44d7160cac7dc6accb4f50</td>\n",
       "      <td>a6e04c84c1dd826a6036e26ea513951d</td>\n",
       "      <td>1541185510</td>\n",
       "      <td>C</td>\n",
       "      <td>1</td>\n",
       "      <td>18.56</td>\n",
       "      <td>0</td>\n",
       "    </tr>\n",
       "    <tr>\n",
       "      <th>4</th>\n",
       "      <td>82798f7788ad20ce34118c925055c06b</td>\n",
       "      <td>7c849f99090de7ec2322d6d31472a607</td>\n",
       "      <td>1541185706</td>\n",
       "      <td>A</td>\n",
       "      <td>1</td>\n",
       "      <td>58.76</td>\n",
       "      <td>0</td>\n",
       "    </tr>\n",
       "  </tbody>\n",
       "</table>\n",
       "</div>"
      ],
      "text/plain": [
       "                            user_id                    transaction_id  \\\n",
       "0  cadeed9426d287cb9cb651cd7ed4f103  2fa41e338cf91fffba68c6f9fb80add6   \n",
       "1  bb3936cb7bb0f605d187a52ff5e03438  795caad659fc9038034aaf5ecf873e61   \n",
       "2  ae2178e497fc7a38917d950e52ff22ec  29fe89653bb7268b3a7ade23387ba326   \n",
       "3  3421071b1e44d7160cac7dc6accb4f50  a6e04c84c1dd826a6036e26ea513951d   \n",
       "4  82798f7788ad20ce34118c925055c06b  7c849f99090de7ec2322d6d31472a607   \n",
       "\n",
       "         time country  items   total  returned_items  \n",
       "0  1541185315       A      1   18.56               0  \n",
       "1  1541185411       A      4   34.02               0  \n",
       "2  1541185455       A     15  346.39               0  \n",
       "3  1541185510       C      1   18.56               0  \n",
       "4  1541185706       A      1   58.76               0  "
      ]
     },
     "execution_count": 14,
     "metadata": {},
     "output_type": "execute_result"
    }
   ],
   "source": [
    "orders = pd.read_csv('./data/transactions_202001.csv')\n",
    "orders.head()\n"
   ]
  },
  {
   "cell_type": "code",
   "execution_count": 15,
   "metadata": {},
   "outputs": [],
   "source": [
    "#orders.info()\n",
    "#orders.describe()"
   ]
  },
  {
   "cell_type": "code",
   "execution_count": 16,
   "metadata": {},
   "outputs": [
    {
     "data": {
      "text/html": [
       "<div>\n",
       "<style scoped>\n",
       "    .dataframe tbody tr th:only-of-type {\n",
       "        vertical-align: middle;\n",
       "    }\n",
       "\n",
       "    .dataframe tbody tr th {\n",
       "        vertical-align: top;\n",
       "    }\n",
       "\n",
       "    .dataframe thead th {\n",
       "        text-align: right;\n",
       "    }\n",
       "</style>\n",
       "<table border=\"1\" class=\"dataframe\">\n",
       "  <thead>\n",
       "    <tr style=\"text-align: right;\">\n",
       "      <th></th>\n",
       "      <th>user_id</th>\n",
       "      <th>client</th>\n",
       "      <th>ip_country</th>\n",
       "      <th>gender</th>\n",
       "      <th>year_born</th>\n",
       "      <th>channel</th>\n",
       "      <th>time</th>\n",
       "      <th>minutes</th>\n",
       "      <th>session_id</th>\n",
       "    </tr>\n",
       "  </thead>\n",
       "  <tbody>\n",
       "    <tr>\n",
       "      <th>0</th>\n",
       "      <td>de4c93c3293c76f3aa95c4c57be7e09f</td>\n",
       "      <td>androidapp</td>\n",
       "      <td>A</td>\n",
       "      <td>F</td>\n",
       "      <td>1948</td>\n",
       "      <td>paid</td>\n",
       "      <td>1525762800</td>\n",
       "      <td>4</td>\n",
       "      <td>cfd3f6f2eda4c859d19f5cef56f26351</td>\n",
       "    </tr>\n",
       "    <tr>\n",
       "      <th>1</th>\n",
       "      <td>0e399e7047198e3a9fc8c2baed521d60</td>\n",
       "      <td>web</td>\n",
       "      <td>B</td>\n",
       "      <td>M</td>\n",
       "      <td>1985</td>\n",
       "      <td>organic</td>\n",
       "      <td>1525762800</td>\n",
       "      <td>35</td>\n",
       "      <td>54b4133384ab0bfa97675240fa939007</td>\n",
       "    </tr>\n",
       "    <tr>\n",
       "      <th>2</th>\n",
       "      <td>2fbb988aa25afb749bfe86bb314a79cb</td>\n",
       "      <td>iosapp</td>\n",
       "      <td>A</td>\n",
       "      <td>F</td>\n",
       "      <td>1999</td>\n",
       "      <td>organic</td>\n",
       "      <td>1525762800</td>\n",
       "      <td>4</td>\n",
       "      <td>b609d8ffaaf5e80075836dcf32580b04</td>\n",
       "    </tr>\n",
       "    <tr>\n",
       "      <th>3</th>\n",
       "      <td>763019e3db7510769a85cec170abf53d</td>\n",
       "      <td>androidapp</td>\n",
       "      <td>C</td>\n",
       "      <td>F</td>\n",
       "      <td>1985</td>\n",
       "      <td>organic</td>\n",
       "      <td>1525762800</td>\n",
       "      <td>5</td>\n",
       "      <td>49759218c2c231d4d41592facd2811d0</td>\n",
       "    </tr>\n",
       "    <tr>\n",
       "      <th>4</th>\n",
       "      <td>b6835da7d9d3595b6e12c100fca1d51c</td>\n",
       "      <td>iosapp</td>\n",
       "      <td>A</td>\n",
       "      <td>F</td>\n",
       "      <td>1960</td>\n",
       "      <td>organic</td>\n",
       "      <td>1525762800</td>\n",
       "      <td>5</td>\n",
       "      <td>433ae77787d29e5d57778d0c65143ad2</td>\n",
       "    </tr>\n",
       "  </tbody>\n",
       "</table>\n",
       "</div>"
      ],
      "text/plain": [
       "                            user_id      client ip_country gender  year_born  \\\n",
       "0  de4c93c3293c76f3aa95c4c57be7e09f  androidapp          A      F       1948   \n",
       "1  0e399e7047198e3a9fc8c2baed521d60         web          B      M       1985   \n",
       "2  2fbb988aa25afb749bfe86bb314a79cb      iosapp          A      F       1999   \n",
       "3  763019e3db7510769a85cec170abf53d  androidapp          C      F       1985   \n",
       "4  b6835da7d9d3595b6e12c100fca1d51c      iosapp          A      F       1960   \n",
       "\n",
       "   channel        time  minutes                        session_id  \n",
       "0     paid  1525762800        4  cfd3f6f2eda4c859d19f5cef56f26351  \n",
       "1  organic  1525762800       35  54b4133384ab0bfa97675240fa939007  \n",
       "2  organic  1525762800        4  b609d8ffaaf5e80075836dcf32580b04  \n",
       "3  organic  1525762800        5  49759218c2c231d4d41592facd2811d0  \n",
       "4  organic  1525762800        5  433ae77787d29e5d57778d0c65143ad2  "
      ]
     },
     "execution_count": 16,
     "metadata": {},
     "output_type": "execute_result"
    }
   ],
   "source": [
    "visitors = pd.read_csv('./data/visitors_202001.csv')\n",
    "visitors.head()"
   ]
  },
  {
   "cell_type": "code",
   "execution_count": 17,
   "metadata": {},
   "outputs": [
    {
     "name": "stdout",
     "output_type": "stream",
     "text": [
      "27072\n",
      "118577\n"
     ]
    }
   ],
   "source": [
    "# unique visitors\n",
    "print(len(orders[\"user_id\"].unique()))\n",
    "print(len(visitors[\"user_id\"].unique()))"
   ]
  },
  {
   "cell_type": "markdown",
   "metadata": {},
   "source": [
    "## Analyze visitor data\n",
    "we wll first only analyze visitor data (1.98M records), and see which features among client ,ip_country ,gender,year_born ,channel contributes to minutes spent on the app.\n",
    "\n",
    "Since there are only 2 channels, we will use channel as color\n",
    "\n",
    "- Xs: client ,ip_country ,gender,year_born ,channel\n",
    "- Y: minutes\n"
   ]
  },
  {
   "cell_type": "code",
   "execution_count": 18,
   "metadata": {},
   "outputs": [
    {
     "data": {
      "text/html": [
       "<div>\n",
       "<style scoped>\n",
       "    .dataframe tbody tr th:only-of-type {\n",
       "        vertical-align: middle;\n",
       "    }\n",
       "\n",
       "    .dataframe tbody tr th {\n",
       "        vertical-align: top;\n",
       "    }\n",
       "\n",
       "    .dataframe thead th {\n",
       "        text-align: right;\n",
       "    }\n",
       "</style>\n",
       "<table border=\"1\" class=\"dataframe\">\n",
       "  <thead>\n",
       "    <tr style=\"text-align: right;\">\n",
       "      <th></th>\n",
       "      <th>client</th>\n",
       "      <th>ip_country</th>\n",
       "      <th>gender</th>\n",
       "      <th>year_born</th>\n",
       "      <th>channel</th>\n",
       "      <th>minutes</th>\n",
       "    </tr>\n",
       "  </thead>\n",
       "  <tbody>\n",
       "    <tr>\n",
       "      <th>0</th>\n",
       "      <td>androidapp</td>\n",
       "      <td>A</td>\n",
       "      <td>F</td>\n",
       "      <td>1948</td>\n",
       "      <td>paid</td>\n",
       "      <td>4</td>\n",
       "    </tr>\n",
       "    <tr>\n",
       "      <th>1</th>\n",
       "      <td>web</td>\n",
       "      <td>B</td>\n",
       "      <td>M</td>\n",
       "      <td>1985</td>\n",
       "      <td>organic</td>\n",
       "      <td>35</td>\n",
       "    </tr>\n",
       "    <tr>\n",
       "      <th>2</th>\n",
       "      <td>iosapp</td>\n",
       "      <td>A</td>\n",
       "      <td>F</td>\n",
       "      <td>1999</td>\n",
       "      <td>organic</td>\n",
       "      <td>4</td>\n",
       "    </tr>\n",
       "    <tr>\n",
       "      <th>3</th>\n",
       "      <td>androidapp</td>\n",
       "      <td>C</td>\n",
       "      <td>F</td>\n",
       "      <td>1985</td>\n",
       "      <td>organic</td>\n",
       "      <td>5</td>\n",
       "    </tr>\n",
       "    <tr>\n",
       "      <th>4</th>\n",
       "      <td>iosapp</td>\n",
       "      <td>A</td>\n",
       "      <td>F</td>\n",
       "      <td>1960</td>\n",
       "      <td>organic</td>\n",
       "      <td>5</td>\n",
       "    </tr>\n",
       "    <tr>\n",
       "      <th>...</th>\n",
       "      <td>...</td>\n",
       "      <td>...</td>\n",
       "      <td>...</td>\n",
       "      <td>...</td>\n",
       "      <td>...</td>\n",
       "      <td>...</td>\n",
       "    </tr>\n",
       "    <tr>\n",
       "      <th>1981899</th>\n",
       "      <td>androidapp</td>\n",
       "      <td>C</td>\n",
       "      <td>F</td>\n",
       "      <td>1974</td>\n",
       "      <td>organic</td>\n",
       "      <td>142</td>\n",
       "    </tr>\n",
       "    <tr>\n",
       "      <th>1981900</th>\n",
       "      <td>androidapp</td>\n",
       "      <td>A</td>\n",
       "      <td>F</td>\n",
       "      <td>1987</td>\n",
       "      <td>organic</td>\n",
       "      <td>2</td>\n",
       "    </tr>\n",
       "    <tr>\n",
       "      <th>1981901</th>\n",
       "      <td>androidapp</td>\n",
       "      <td>A</td>\n",
       "      <td>M</td>\n",
       "      <td>1955</td>\n",
       "      <td>organic</td>\n",
       "      <td>4</td>\n",
       "    </tr>\n",
       "    <tr>\n",
       "      <th>1981902</th>\n",
       "      <td>androidapp</td>\n",
       "      <td>A</td>\n",
       "      <td>F</td>\n",
       "      <td>1984</td>\n",
       "      <td>organic</td>\n",
       "      <td>7</td>\n",
       "    </tr>\n",
       "    <tr>\n",
       "      <th>1981903</th>\n",
       "      <td>androidapp</td>\n",
       "      <td>A</td>\n",
       "      <td>F</td>\n",
       "      <td>2001</td>\n",
       "      <td>paid</td>\n",
       "      <td>7</td>\n",
       "    </tr>\n",
       "  </tbody>\n",
       "</table>\n",
       "<p>1981904 rows × 6 columns</p>\n",
       "</div>"
      ],
      "text/plain": [
       "             client ip_country gender  year_born  channel  minutes\n",
       "0        androidapp          A      F       1948     paid        4\n",
       "1               web          B      M       1985  organic       35\n",
       "2            iosapp          A      F       1999  organic        4\n",
       "3        androidapp          C      F       1985  organic        5\n",
       "4            iosapp          A      F       1960  organic        5\n",
       "...             ...        ...    ...        ...      ...      ...\n",
       "1981899  androidapp          C      F       1974  organic      142\n",
       "1981900  androidapp          A      F       1987  organic        2\n",
       "1981901  androidapp          A      M       1955  organic        4\n",
       "1981902  androidapp          A      F       1984  organic        7\n",
       "1981903  androidapp          A      F       2001     paid        7\n",
       "\n",
       "[1981904 rows x 6 columns]"
      ]
     },
     "execution_count": 18,
     "metadata": {},
     "output_type": "execute_result"
    }
   ],
   "source": [
    "visitors_df = visitors[[\"client\", \"ip_country\", \"gender\", \"year_born\", \"channel\", \"minutes\"]]\n",
    "visitors_df"
   ]
  },
  {
   "cell_type": "markdown",
   "metadata": {},
   "source": [
    "### Minutes VS client "
   ]
  },
  {
   "cell_type": "code",
   "execution_count": 19,
   "metadata": {},
   "outputs": [
    {
     "data": {
      "image/png": "[encoded data removed]",
      "text/plain": [
       "<Figure size 1296x432 with 2 Axes>"
      ]
     },
     "metadata": {
      "needs_background": "light"
     },
     "output_type": "display_data"
    }
   ],
   "source": [
    "data = visitors_df\n",
    "hue = \"channel\"\n",
    "\n",
    "# Visualization: Minutes spent visiting app VS different client\n",
    "fig, ax = plt.subplots(nrows=1, ncols=2, figsize=(18, 6))\n",
    "sns.countplot(x='client', hue=hue, data=data, ax=ax[0])\n",
    "ax[0].set_title('Count of client', fontsize=16)\n",
    "\n",
    "sns.barplot(x='client', y='minutes', hue=hue, data=data, ax=ax[1])\n",
    "ax[1].set_title('Mean minutes spent per client', fontsize=16)\n",
    "plt.tight_layout()\n",
    "plt.show()"
   ]
  },
  {
   "cell_type": "markdown",
   "metadata": {},
   "source": [
    "### Minutes VS ip_country "
   ]
  },
  {
   "cell_type": "code",
   "execution_count": 20,
   "metadata": {},
   "outputs": [
    {
     "data": {
      "image/png": "[encoded data removed]",
      "text/plain": [
       "<Figure size 1296x432 with 2 Axes>"
      ]
     },
     "metadata": {
      "needs_background": "light"
     },
     "output_type": "display_data"
    }
   ],
   "source": [
    "# Visualization: Minutes spent visiting app VS different ip_country\n",
    "fig, ax = plt.subplots(nrows=1, ncols=2, figsize=(18, 6))\n",
    "sns.countplot(x='ip_country', hue=hue, data=data, ax=ax[0])\n",
    "ax[0].set_title('Count of ip_country', fontsize=16)\n",
    "\n",
    "sns.barplot(x='ip_country', y='minutes', hue=hue, data=data, ax=ax[1])\n",
    "ax[1].set_title('Mean minutes spent per ip_country', fontsize=16)\n",
    "plt.tight_layout()\n",
    "plt.show()"
   ]
  },
  {
   "cell_type": "markdown",
   "metadata": {},
   "source": [
    "### Minutes VS gender "
   ]
  },
  {
   "cell_type": "code",
   "execution_count": 21,
   "metadata": {},
   "outputs": [
    {
     "data": {
      "image/png": "[encoded data removed]",
      "text/plain": [
       "<Figure size 1296x432 with 2 Axes>"
      ]
     },
     "metadata": {
      "needs_background": "light"
     },
     "output_type": "display_data"
    }
   ],
   "source": [
    "# Visualization: Minutes spent visiting app VS different gender\n",
    "fig, ax = plt.subplots(nrows=1, ncols=2, figsize=(18, 6))\n",
    "sns.countplot(x='gender', hue=hue, data=data, ax=ax[0])\n",
    "ax[0].set_title('Count of gender', fontsize=16)\n",
    "\n",
    "sns.barplot(x='gender', y='minutes', hue=hue, data=data, ax=ax[1])\n",
    "ax[1].set_title('Mean minutes spent per gender', fontsize=16)\n",
    "plt.tight_layout()\n",
    "plt.show()"
   ]
  },
  {
   "cell_type": "markdown",
   "metadata": {},
   "source": [
    "### Minutes VS year-born "
   ]
  },
  {
   "cell_type": "code",
   "execution_count": 22,
   "metadata": {},
   "outputs": [
    {
     "data": {
      "image/png": "[encoded data removed]",
      "text/plain": [
       "<Figure size 1296x432 with 1 Axes>"
      ]
     },
     "metadata": {
      "needs_background": "light"
     },
     "output_type": "display_data"
    }
   ],
   "source": [
    "# Visualization: user count VS year_born\n",
    "fig, ax = plt.subplots(nrows=1, ncols=1, figsize=(18, 6))\n",
    "\n",
    "sns.countplot(x='year_born', hue=hue, data=data, ax=ax)\n",
    "ax.set_title('Count of year_born', fontsize=16)\n",
    "\n",
    "plt.tight_layout()\n",
    "plt.show()"
   ]
  },
  {
   "cell_type": "code",
   "execution_count": 23,
   "metadata": {},
   "outputs": [
    {
     "data": {
      "image/png": "[encoded data removed]",
      "text/plain": [
       "<Figure size 1296x432 with 1 Axes>"
      ]
     },
     "metadata": {
      "needs_background": "light"
     },
     "output_type": "display_data"
    }
   ],
   "source": [
    "# Visualization: Minutes spent visiting app VS different year_born\n",
    "fig, ax = plt.subplots(nrows=1, ncols=1, figsize=(18, 6))\n",
    "\n",
    "sns.barplot(x='year_born', y='minutes', hue=hue, data=data, ax=ax)\n",
    "ax.set_title('Mean minutes spent per year_born', fontsize=16)\n",
    "plt.tight_layout()\n",
    "plt.show()"
   ]
  },
  {
   "cell_type": "markdown",
   "metadata": {},
   "source": [
    "### Comments on orders analysis\n",
    "\n",
    "We studied the effect of \"client\", \"ip_country\", \"gender\", \"year_born\", \"channel\" on \"minutes\" spent on the app. We found:\n",
    "\n",
    "- in general, paid channel results in more time spent in our app (except for users with mobileweb)\n",
    "- user spent least time on mobileweb, spent most time on web\n",
    "- user in country B spent most time\n",
    "- Female spent most time compare to other genders\n",
    "- Elder users born before 1930s spent less time, and many don't use paid channel; young users with paid channel spent more time compared with organic channel. For users born after 1940s, the age's effect is not obvious\n",
    "\n",
    "Actionable insights/ suggestions:\n",
    "- consider improving user engagement in country C (like promotion)\n",
    "- improve mobileweb client (perhaps make it more user-friendly)"
   ]
  },
  {
   "cell_type": "code",
   "execution_count": 24,
   "metadata": {},
   "outputs": [],
   "source": [
    "# -------------------------------\n",
    "\n",
    "# aggregate orders\n",
    "# aggregate visitors"
   ]
  },
  {
   "cell_type": "markdown",
   "metadata": {},
   "source": [
    "## Aggregate Orders"
   ]
  },
  {
   "cell_type": "code",
   "execution_count": 25,
   "metadata": {},
   "outputs": [],
   "source": [
    "order_count = orders.groupby(\"user_id\")[\"transaction_id\"].agg('count').reset_index().rename(columns={'transaction_id':'order_count'})\n",
    "items_tot = orders.groupby(\"user_id\")[\"items\"].agg('sum').reset_index().rename(columns={'items':'items_tot'})\n",
    "total_tot = orders.groupby(\"user_id\")[\"total\"].agg('sum').reset_index().rename(columns={'total':'total_tot'})\n",
    "returned_tot = orders.groupby(\"user_id\")[\"returned_items\"].agg('sum').reset_index().rename(columns={'returned_items':'returned_tot'})"
   ]
  },
  {
   "cell_type": "code",
   "execution_count": 26,
   "metadata": {},
   "outputs": [
    {
     "data": {
      "text/html": [
       "<div>\n",
       "<style scoped>\n",
       "    .dataframe tbody tr th:only-of-type {\n",
       "        vertical-align: middle;\n",
       "    }\n",
       "\n",
       "    .dataframe tbody tr th {\n",
       "        vertical-align: top;\n",
       "    }\n",
       "\n",
       "    .dataframe thead th {\n",
       "        text-align: right;\n",
       "    }\n",
       "</style>\n",
       "<table border=\"1\" class=\"dataframe\">\n",
       "  <thead>\n",
       "    <tr style=\"text-align: right;\">\n",
       "      <th></th>\n",
       "      <th>user_id</th>\n",
       "      <th>order_count</th>\n",
       "      <th>items_tot</th>\n",
       "      <th>total_tot</th>\n",
       "      <th>returned_tot</th>\n",
       "    </tr>\n",
       "  </thead>\n",
       "  <tbody>\n",
       "    <tr>\n",
       "      <th>0</th>\n",
       "      <td>000254d704a2edf44dbb734e1b517561</td>\n",
       "      <td>2</td>\n",
       "      <td>13</td>\n",
       "      <td>265.98</td>\n",
       "      <td>0</td>\n",
       "    </tr>\n",
       "    <tr>\n",
       "      <th>1</th>\n",
       "      <td>0005a756366f0d881a9af560d96a40bd</td>\n",
       "      <td>4</td>\n",
       "      <td>7</td>\n",
       "      <td>432.98</td>\n",
       "      <td>0</td>\n",
       "    </tr>\n",
       "    <tr>\n",
       "      <th>2</th>\n",
       "      <td>000864081fda5b7b5707db65c98b91ca</td>\n",
       "      <td>1</td>\n",
       "      <td>3</td>\n",
       "      <td>15.46</td>\n",
       "      <td>0</td>\n",
       "    </tr>\n",
       "    <tr>\n",
       "      <th>3</th>\n",
       "      <td>000fc876b4476bcc36af191951afb9b5</td>\n",
       "      <td>1</td>\n",
       "      <td>1</td>\n",
       "      <td>71.13</td>\n",
       "      <td>0</td>\n",
       "    </tr>\n",
       "    <tr>\n",
       "      <th>4</th>\n",
       "      <td>0013c370a3053b484111987677c77083</td>\n",
       "      <td>1</td>\n",
       "      <td>1</td>\n",
       "      <td>6.19</td>\n",
       "      <td>0</td>\n",
       "    </tr>\n",
       "  </tbody>\n",
       "</table>\n",
       "</div>"
      ],
      "text/plain": [
       "                            user_id  order_count  items_tot  total_tot  \\\n",
       "0  000254d704a2edf44dbb734e1b517561            2         13     265.98   \n",
       "1  0005a756366f0d881a9af560d96a40bd            4          7     432.98   \n",
       "2  000864081fda5b7b5707db65c98b91ca            1          3      15.46   \n",
       "3  000fc876b4476bcc36af191951afb9b5            1          1      71.13   \n",
       "4  0013c370a3053b484111987677c77083            1          1       6.19   \n",
       "\n",
       "   returned_tot  \n",
       "0             0  \n",
       "1             0  \n",
       "2             0  \n",
       "3             0  \n",
       "4             0  "
      ]
     },
     "execution_count": 26,
     "metadata": {},
     "output_type": "execute_result"
    }
   ],
   "source": [
    "orders_agg = pd.merge(left=order_count, right=items_tot, how='left', on='user_id')\n",
    "orders_agg = pd.merge(left=orders_agg, right=total_tot, how='left', on='user_id')\n",
    "orders_agg = pd.merge(left=orders_agg, right=returned_tot, how='left', on='user_id')\n",
    "\n",
    "orders_agg.head()"
   ]
  },
  {
   "cell_type": "code",
   "execution_count": 27,
   "metadata": {},
   "outputs": [],
   "source": [
    "# calc avarage \n",
    "orders_agg[['items_mean', 'total_mean', 'returned_mean']] = orders_agg[['items_tot', 'total_tot', 'returned_tot']].div(orders_agg.order_count, axis=0)"
   ]
  },
  {
   "cell_type": "code",
   "execution_count": 28,
   "metadata": {},
   "outputs": [
    {
     "data": {
      "text/html": [
       "<div>\n",
       "<style scoped>\n",
       "    .dataframe tbody tr th:only-of-type {\n",
       "        vertical-align: middle;\n",
       "    }\n",
       "\n",
       "    .dataframe tbody tr th {\n",
       "        vertical-align: top;\n",
       "    }\n",
       "\n",
       "    .dataframe thead th {\n",
       "        text-align: right;\n",
       "    }\n",
       "</style>\n",
       "<table border=\"1\" class=\"dataframe\">\n",
       "  <thead>\n",
       "    <tr style=\"text-align: right;\">\n",
       "      <th></th>\n",
       "      <th>user_id</th>\n",
       "      <th>order_count</th>\n",
       "      <th>items_tot</th>\n",
       "      <th>total_tot</th>\n",
       "      <th>returned_tot</th>\n",
       "      <th>items_mean</th>\n",
       "      <th>total_mean</th>\n",
       "      <th>returned_mean</th>\n",
       "    </tr>\n",
       "  </thead>\n",
       "  <tbody>\n",
       "    <tr>\n",
       "      <th>0</th>\n",
       "      <td>000254d704a2edf44dbb734e1b517561</td>\n",
       "      <td>2</td>\n",
       "      <td>13</td>\n",
       "      <td>265.98</td>\n",
       "      <td>0</td>\n",
       "      <td>6.50</td>\n",
       "      <td>132.990</td>\n",
       "      <td>0.0</td>\n",
       "    </tr>\n",
       "    <tr>\n",
       "      <th>1</th>\n",
       "      <td>0005a756366f0d881a9af560d96a40bd</td>\n",
       "      <td>4</td>\n",
       "      <td>7</td>\n",
       "      <td>432.98</td>\n",
       "      <td>0</td>\n",
       "      <td>1.75</td>\n",
       "      <td>108.245</td>\n",
       "      <td>0.0</td>\n",
       "    </tr>\n",
       "    <tr>\n",
       "      <th>2</th>\n",
       "      <td>000864081fda5b7b5707db65c98b91ca</td>\n",
       "      <td>1</td>\n",
       "      <td>3</td>\n",
       "      <td>15.46</td>\n",
       "      <td>0</td>\n",
       "      <td>3.00</td>\n",
       "      <td>15.460</td>\n",
       "      <td>0.0</td>\n",
       "    </tr>\n",
       "    <tr>\n",
       "      <th>3</th>\n",
       "      <td>000fc876b4476bcc36af191951afb9b5</td>\n",
       "      <td>1</td>\n",
       "      <td>1</td>\n",
       "      <td>71.13</td>\n",
       "      <td>0</td>\n",
       "      <td>1.00</td>\n",
       "      <td>71.130</td>\n",
       "      <td>0.0</td>\n",
       "    </tr>\n",
       "    <tr>\n",
       "      <th>4</th>\n",
       "      <td>0013c370a3053b484111987677c77083</td>\n",
       "      <td>1</td>\n",
       "      <td>1</td>\n",
       "      <td>6.19</td>\n",
       "      <td>0</td>\n",
       "      <td>1.00</td>\n",
       "      <td>6.190</td>\n",
       "      <td>0.0</td>\n",
       "    </tr>\n",
       "    <tr>\n",
       "      <th>...</th>\n",
       "      <td>...</td>\n",
       "      <td>...</td>\n",
       "      <td>...</td>\n",
       "      <td>...</td>\n",
       "      <td>...</td>\n",
       "      <td>...</td>\n",
       "      <td>...</td>\n",
       "      <td>...</td>\n",
       "    </tr>\n",
       "    <tr>\n",
       "      <th>27067</th>\n",
       "      <td>fff1ec4dde8167d39b7b7bb69924a690</td>\n",
       "      <td>5</td>\n",
       "      <td>7</td>\n",
       "      <td>182.46</td>\n",
       "      <td>0</td>\n",
       "      <td>1.40</td>\n",
       "      <td>36.492</td>\n",
       "      <td>0.0</td>\n",
       "    </tr>\n",
       "    <tr>\n",
       "      <th>27068</th>\n",
       "      <td>fff2feb536b7d0bc22a8be1fe4cb7130</td>\n",
       "      <td>2</td>\n",
       "      <td>7</td>\n",
       "      <td>157.74</td>\n",
       "      <td>0</td>\n",
       "      <td>3.50</td>\n",
       "      <td>78.870</td>\n",
       "      <td>0.0</td>\n",
       "    </tr>\n",
       "    <tr>\n",
       "      <th>27069</th>\n",
       "      <td>fff4a17c770ec48e1666f568c3b5705f</td>\n",
       "      <td>2</td>\n",
       "      <td>2</td>\n",
       "      <td>71.13</td>\n",
       "      <td>0</td>\n",
       "      <td>1.00</td>\n",
       "      <td>35.565</td>\n",
       "      <td>0.0</td>\n",
       "    </tr>\n",
       "    <tr>\n",
       "      <th>27070</th>\n",
       "      <td>fff827b347b41e715d2b7bafd7fcbf42</td>\n",
       "      <td>1</td>\n",
       "      <td>1</td>\n",
       "      <td>108.25</td>\n",
       "      <td>0</td>\n",
       "      <td>1.00</td>\n",
       "      <td>108.250</td>\n",
       "      <td>0.0</td>\n",
       "    </tr>\n",
       "    <tr>\n",
       "      <th>27071</th>\n",
       "      <td>fffe02767a16c18eff2f97b0cde8c076</td>\n",
       "      <td>2</td>\n",
       "      <td>4</td>\n",
       "      <td>27.84</td>\n",
       "      <td>0</td>\n",
       "      <td>2.00</td>\n",
       "      <td>13.920</td>\n",
       "      <td>0.0</td>\n",
       "    </tr>\n",
       "  </tbody>\n",
       "</table>\n",
       "<p>27072 rows × 8 columns</p>\n",
       "</div>"
      ],
      "text/plain": [
       "                                user_id  order_count  items_tot  total_tot  \\\n",
       "0      000254d704a2edf44dbb734e1b517561            2         13     265.98   \n",
       "1      0005a756366f0d881a9af560d96a40bd            4          7     432.98   \n",
       "2      000864081fda5b7b5707db65c98b91ca            1          3      15.46   \n",
       "3      000fc876b4476bcc36af191951afb9b5            1          1      71.13   \n",
       "4      0013c370a3053b484111987677c77083            1          1       6.19   \n",
       "...                                 ...          ...        ...        ...   \n",
       "27067  fff1ec4dde8167d39b7b7bb69924a690            5          7     182.46   \n",
       "27068  fff2feb536b7d0bc22a8be1fe4cb7130            2          7     157.74   \n",
       "27069  fff4a17c770ec48e1666f568c3b5705f            2          2      71.13   \n",
       "27070  fff827b347b41e715d2b7bafd7fcbf42            1          1     108.25   \n",
       "27071  fffe02767a16c18eff2f97b0cde8c076            2          4      27.84   \n",
       "\n",
       "       returned_tot  items_mean  total_mean  returned_mean  \n",
       "0                 0        6.50     132.990            0.0  \n",
       "1                 0        1.75     108.245            0.0  \n",
       "2                 0        3.00      15.460            0.0  \n",
       "3                 0        1.00      71.130            0.0  \n",
       "4                 0        1.00       6.190            0.0  \n",
       "...             ...         ...         ...            ...  \n",
       "27067             0        1.40      36.492            0.0  \n",
       "27068             0        3.50      78.870            0.0  \n",
       "27069             0        1.00      35.565            0.0  \n",
       "27070             0        1.00     108.250            0.0  \n",
       "27071             0        2.00      13.920            0.0  \n",
       "\n",
       "[27072 rows x 8 columns]"
      ]
     },
     "execution_count": 28,
     "metadata": {},
     "output_type": "execute_result"
    }
   ],
   "source": [
    "orders_agg"
   ]
  },
  {
   "cell_type": "markdown",
   "metadata": {},
   "source": [
    "## Aggregate Visitors"
   ]
  },
  {
   "cell_type": "code",
   "execution_count": 29,
   "metadata": {},
   "outputs": [],
   "source": [
    "session_count = visitors.groupby(\"user_id\")[\"session_id\"].agg('count').reset_index().rename(columns={'session_id':'session_count'})\n",
    "minutes_sum = visitors.groupby(\"user_id\")[\"minutes\"].agg('sum').reset_index().rename(columns={'minutes':'minutes_sum'})"
   ]
  },
  {
   "cell_type": "code",
   "execution_count": 30,
   "metadata": {},
   "outputs": [
    {
     "data": {
      "text/html": [
       "<div>\n",
       "<style scoped>\n",
       "    .dataframe tbody tr th:only-of-type {\n",
       "        vertical-align: middle;\n",
       "    }\n",
       "\n",
       "    .dataframe tbody tr th {\n",
       "        vertical-align: top;\n",
       "    }\n",
       "\n",
       "    .dataframe thead th {\n",
       "        text-align: right;\n",
       "    }\n",
       "</style>\n",
       "<table border=\"1\" class=\"dataframe\">\n",
       "  <thead>\n",
       "    <tr style=\"text-align: right;\">\n",
       "      <th></th>\n",
       "      <th>user_id</th>\n",
       "      <th>session_count</th>\n",
       "      <th>minutes_sum</th>\n",
       "      <th>minutes_mean</th>\n",
       "    </tr>\n",
       "  </thead>\n",
       "  <tbody>\n",
       "    <tr>\n",
       "      <th>0</th>\n",
       "      <td>0000f79a8363986ff6a888f20dd80e21</td>\n",
       "      <td>1</td>\n",
       "      <td>1</td>\n",
       "      <td>1.000000</td>\n",
       "    </tr>\n",
       "    <tr>\n",
       "      <th>1</th>\n",
       "      <td>0001e14d50ac8d01abbba7abbfe160ed</td>\n",
       "      <td>2</td>\n",
       "      <td>5</td>\n",
       "      <td>2.500000</td>\n",
       "    </tr>\n",
       "    <tr>\n",
       "      <th>2</th>\n",
       "      <td>000254d704a2edf44dbb734e1b517561</td>\n",
       "      <td>86</td>\n",
       "      <td>1287</td>\n",
       "      <td>14.965116</td>\n",
       "    </tr>\n",
       "    <tr>\n",
       "      <th>3</th>\n",
       "      <td>00025ec0d0e649236580c8ab0b3e0ea1</td>\n",
       "      <td>2</td>\n",
       "      <td>11</td>\n",
       "      <td>5.500000</td>\n",
       "    </tr>\n",
       "    <tr>\n",
       "      <th>4</th>\n",
       "      <td>00048ba7987c16ee71cedca29ef8d3db</td>\n",
       "      <td>6</td>\n",
       "      <td>22</td>\n",
       "      <td>3.666667</td>\n",
       "    </tr>\n",
       "    <tr>\n",
       "      <th>...</th>\n",
       "      <td>...</td>\n",
       "      <td>...</td>\n",
       "      <td>...</td>\n",
       "      <td>...</td>\n",
       "    </tr>\n",
       "    <tr>\n",
       "      <th>118572</th>\n",
       "      <td>fffd92765d0f276aaae2d0a2fc061ddd</td>\n",
       "      <td>2</td>\n",
       "      <td>2</td>\n",
       "      <td>1.000000</td>\n",
       "    </tr>\n",
       "    <tr>\n",
       "      <th>118573</th>\n",
       "      <td>fffdc76d6da1e5af084e73cd6e04cf45</td>\n",
       "      <td>2</td>\n",
       "      <td>3</td>\n",
       "      <td>1.500000</td>\n",
       "    </tr>\n",
       "    <tr>\n",
       "      <th>118574</th>\n",
       "      <td>fffe02767a16c18eff2f97b0cde8c076</td>\n",
       "      <td>18</td>\n",
       "      <td>580</td>\n",
       "      <td>32.222222</td>\n",
       "    </tr>\n",
       "    <tr>\n",
       "      <th>118575</th>\n",
       "      <td>fffef15805e606f3bfa249836bc4b3e1</td>\n",
       "      <td>6</td>\n",
       "      <td>126</td>\n",
       "      <td>21.000000</td>\n",
       "    </tr>\n",
       "    <tr>\n",
       "      <th>118576</th>\n",
       "      <td>ffff568087a02dc16424d00dcf6bc3de</td>\n",
       "      <td>1</td>\n",
       "      <td>1</td>\n",
       "      <td>1.000000</td>\n",
       "    </tr>\n",
       "  </tbody>\n",
       "</table>\n",
       "<p>118577 rows × 4 columns</p>\n",
       "</div>"
      ],
      "text/plain": [
       "                                 user_id  session_count  minutes_sum  \\\n",
       "0       0000f79a8363986ff6a888f20dd80e21              1            1   \n",
       "1       0001e14d50ac8d01abbba7abbfe160ed              2            5   \n",
       "2       000254d704a2edf44dbb734e1b517561             86         1287   \n",
       "3       00025ec0d0e649236580c8ab0b3e0ea1              2           11   \n",
       "4       00048ba7987c16ee71cedca29ef8d3db              6           22   \n",
       "...                                  ...            ...          ...   \n",
       "118572  fffd92765d0f276aaae2d0a2fc061ddd              2            2   \n",
       "118573  fffdc76d6da1e5af084e73cd6e04cf45              2            3   \n",
       "118574  fffe02767a16c18eff2f97b0cde8c076             18          580   \n",
       "118575  fffef15805e606f3bfa249836bc4b3e1              6          126   \n",
       "118576  ffff568087a02dc16424d00dcf6bc3de              1            1   \n",
       "\n",
       "        minutes_mean  \n",
       "0           1.000000  \n",
       "1           2.500000  \n",
       "2          14.965116  \n",
       "3           5.500000  \n",
       "4           3.666667  \n",
       "...              ...  \n",
       "118572      1.000000  \n",
       "118573      1.500000  \n",
       "118574     32.222222  \n",
       "118575     21.000000  \n",
       "118576      1.000000  \n",
       "\n",
       "[118577 rows x 4 columns]"
      ]
     },
     "execution_count": 30,
     "metadata": {},
     "output_type": "execute_result"
    }
   ],
   "source": [
    "# combine session_count and minutes_sum for 118577 unique visitors\n",
    "visitors_agg = pd.merge(left=session_count, right=minutes_sum, how='left', on='user_id')\n",
    "visitors_agg[['minutes_mean']] = visitors_agg[['minutes_sum']].div(visitors_agg.session_count, axis=0)\n",
    "visitors_agg"
   ]
  },
  {
   "cell_type": "code",
   "execution_count": 31,
   "metadata": {},
   "outputs": [
    {
     "name": "stdout",
     "output_type": "stream",
     "text": [
      "unique users who order 27072\n",
      "unique users who visit 118577\n"
     ]
    }
   ],
   "source": [
    "print(\"unique users who order\",len(orders_agg[\"user_id\"].unique()))\n",
    "print(\"unique users who visit\",len(visitors_agg[\"user_id\"].unique()))"
   ]
  },
  {
   "cell_type": "markdown",
   "metadata": {},
   "source": [
    "Comments:\n",
    "\n",
    "- From the basic data, visitors data has ~1.98M rows, while orders data has ~120k rows.\n",
    "- ~6% of the visiting events converts to transaction events.\n",
    "- Of those 1.98M visiting events, there are ~120k unique users. On average, each user visits the app ~16 times.\n",
    "- Of those ~120k transactions, there are ~27k unique users. On average, each user made ~4 transactions.\n",
    "\n",
    "We will then join orders dataframe with visitors dataframe based on user_id."
   ]
  },
  {
   "cell_type": "markdown",
   "metadata": {},
   "source": [
    "## Analyze the aggregated order table and aggregated visit table"
   ]
  },
  {
   "cell_type": "code",
   "execution_count": 32,
   "metadata": {},
   "outputs": [
    {
     "data": {
      "text/plain": [
       "(0.0, 100.0)"
      ]
     },
     "execution_count": 32,
     "metadata": {},
     "output_type": "execute_result"
    },
    {
     "data": {
      "image/png": "[encoded data removed]",
      "text/plain": [
       "<Figure size 432x288 with 1 Axes>"
      ]
     },
     "metadata": {
      "needs_background": "light"
     },
     "output_type": "display_data"
    }
   ],
   "source": [
    "# distribution of average time spent\n",
    "sns.distplot(visitors_agg[\"minutes_mean\"]) # , bins= 100\n",
    "plt.xlim([0,100.0])"
   ]
  },
  {
   "cell_type": "code",
   "execution_count": 33,
   "metadata": {},
   "outputs": [
    {
     "data": {
      "text/plain": [
       "(0.0, 20.0)"
      ]
     },
     "execution_count": 33,
     "metadata": {},
     "output_type": "execute_result"
    },
    {
     "data": {
      "image/png": "[encoded data removed]",
      "text/plain": [
       "<Figure size 432x288 with 1 Axes>"
      ]
     },
     "metadata": {
      "needs_background": "light"
     },
     "output_type": "display_data"
    }
   ],
   "source": [
    "# distribution of average order total\n",
    "sns.distplot(orders_agg[\"items_mean\"])\n",
    "plt.xlim([0,20.0])"
   ]
  },
  {
   "cell_type": "code",
   "execution_count": 34,
   "metadata": {},
   "outputs": [
    {
     "data": {
      "text/plain": [
       "count    27072.000000\n",
       "mean         2.252871\n",
       "std          2.151225\n",
       "min          1.000000\n",
       "25%          1.000000\n",
       "50%          1.500000\n",
       "75%          2.625000\n",
       "max         50.000000\n",
       "Name: items_mean, dtype: float64"
      ]
     },
     "execution_count": 34,
     "metadata": {},
     "output_type": "execute_result"
    }
   ],
   "source": [
    "orders_agg[\"items_mean\"].describe()"
   ]
  },
  {
   "cell_type": "code",
   "execution_count": 35,
   "metadata": {},
   "outputs": [
    {
     "data": {
      "text/plain": [
       "(0.0, 1000.0)"
      ]
     },
     "execution_count": 35,
     "metadata": {},
     "output_type": "execute_result"
    },
    {
     "data": {
      "image/png": "[encoded data removed]",
      "text/plain": [
       "<Figure size 432x288 with 1 Axes>"
      ]
     },
     "metadata": {
      "needs_background": "light"
     },
     "output_type": "display_data"
    }
   ],
   "source": [
    "sns.distplot(orders_agg[\"total_mean\"])\n",
    "plt.xlim([0,1000.0])"
   ]
  },
  {
   "cell_type": "code",
   "execution_count": 36,
   "metadata": {},
   "outputs": [
    {
     "data": {
      "text/plain": [
       "count    27072.000000\n",
       "mean        61.450086\n",
       "std         86.363113\n",
       "min          0.000000\n",
       "25%         14.433333\n",
       "50%         35.050000\n",
       "75%         75.256667\n",
       "max       2188.660000\n",
       "Name: total_mean, dtype: float64"
      ]
     },
     "execution_count": 36,
     "metadata": {},
     "output_type": "execute_result"
    }
   ],
   "source": [
    "orders_agg[\"total_mean\"].describe()"
   ]
  },
  {
   "cell_type": "code",
   "execution_count": 37,
   "metadata": {},
   "outputs": [],
   "source": [
    "#sns.distplot(orders_agg[\"returned_mean\"])\n",
    "#orders_agg[\"returned_mean\"].describe()"
   ]
  },
  {
   "cell_type": "markdown",
   "metadata": {},
   "source": [
    "## Analyze the users who ordered"
   ]
  },
  {
   "cell_type": "code",
   "execution_count": 38,
   "metadata": {},
   "outputs": [
    {
     "data": {
      "text/html": [
       "<div>\n",
       "<style scoped>\n",
       "    .dataframe tbody tr th:only-of-type {\n",
       "        vertical-align: middle;\n",
       "    }\n",
       "\n",
       "    .dataframe tbody tr th {\n",
       "        vertical-align: top;\n",
       "    }\n",
       "\n",
       "    .dataframe thead th {\n",
       "        text-align: right;\n",
       "    }\n",
       "</style>\n",
       "<table border=\"1\" class=\"dataframe\">\n",
       "  <thead>\n",
       "    <tr style=\"text-align: right;\">\n",
       "      <th></th>\n",
       "      <th>user_id</th>\n",
       "      <th>session_count</th>\n",
       "      <th>minutes_sum</th>\n",
       "      <th>minutes_mean</th>\n",
       "      <th>order_count</th>\n",
       "      <th>items_tot</th>\n",
       "      <th>total_tot</th>\n",
       "      <th>returned_tot</th>\n",
       "      <th>items_mean</th>\n",
       "      <th>total_mean</th>\n",
       "      <th>returned_mean</th>\n",
       "    </tr>\n",
       "  </thead>\n",
       "  <tbody>\n",
       "    <tr>\n",
       "      <th>0</th>\n",
       "      <td>000254d704a2edf44dbb734e1b517561</td>\n",
       "      <td>86</td>\n",
       "      <td>1287</td>\n",
       "      <td>14.965116</td>\n",
       "      <td>2</td>\n",
       "      <td>13</td>\n",
       "      <td>265.98</td>\n",
       "      <td>0</td>\n",
       "      <td>6.50</td>\n",
       "      <td>132.990</td>\n",
       "      <td>0.0</td>\n",
       "    </tr>\n",
       "    <tr>\n",
       "      <th>1</th>\n",
       "      <td>0005a756366f0d881a9af560d96a40bd</td>\n",
       "      <td>23</td>\n",
       "      <td>340</td>\n",
       "      <td>14.782609</td>\n",
       "      <td>4</td>\n",
       "      <td>7</td>\n",
       "      <td>432.98</td>\n",
       "      <td>0</td>\n",
       "      <td>1.75</td>\n",
       "      <td>108.245</td>\n",
       "      <td>0.0</td>\n",
       "    </tr>\n",
       "    <tr>\n",
       "      <th>2</th>\n",
       "      <td>000864081fda5b7b5707db65c98b91ca</td>\n",
       "      <td>47</td>\n",
       "      <td>267</td>\n",
       "      <td>5.680851</td>\n",
       "      <td>1</td>\n",
       "      <td>3</td>\n",
       "      <td>15.46</td>\n",
       "      <td>0</td>\n",
       "      <td>3.00</td>\n",
       "      <td>15.460</td>\n",
       "      <td>0.0</td>\n",
       "    </tr>\n",
       "    <tr>\n",
       "      <th>3</th>\n",
       "      <td>000fc876b4476bcc36af191951afb9b5</td>\n",
       "      <td>32</td>\n",
       "      <td>221</td>\n",
       "      <td>6.906250</td>\n",
       "      <td>1</td>\n",
       "      <td>1</td>\n",
       "      <td>71.13</td>\n",
       "      <td>0</td>\n",
       "      <td>1.00</td>\n",
       "      <td>71.130</td>\n",
       "      <td>0.0</td>\n",
       "    </tr>\n",
       "    <tr>\n",
       "      <th>4</th>\n",
       "      <td>0013c370a3053b484111987677c77083</td>\n",
       "      <td>9</td>\n",
       "      <td>190</td>\n",
       "      <td>21.111111</td>\n",
       "      <td>1</td>\n",
       "      <td>1</td>\n",
       "      <td>6.19</td>\n",
       "      <td>0</td>\n",
       "      <td>1.00</td>\n",
       "      <td>6.190</td>\n",
       "      <td>0.0</td>\n",
       "    </tr>\n",
       "    <tr>\n",
       "      <th>...</th>\n",
       "      <td>...</td>\n",
       "      <td>...</td>\n",
       "      <td>...</td>\n",
       "      <td>...</td>\n",
       "      <td>...</td>\n",
       "      <td>...</td>\n",
       "      <td>...</td>\n",
       "      <td>...</td>\n",
       "      <td>...</td>\n",
       "      <td>...</td>\n",
       "      <td>...</td>\n",
       "    </tr>\n",
       "    <tr>\n",
       "      <th>27067</th>\n",
       "      <td>fff1ec4dde8167d39b7b7bb69924a690</td>\n",
       "      <td>13</td>\n",
       "      <td>280</td>\n",
       "      <td>21.538462</td>\n",
       "      <td>5</td>\n",
       "      <td>7</td>\n",
       "      <td>182.46</td>\n",
       "      <td>0</td>\n",
       "      <td>1.40</td>\n",
       "      <td>36.492</td>\n",
       "      <td>0.0</td>\n",
       "    </tr>\n",
       "    <tr>\n",
       "      <th>27068</th>\n",
       "      <td>fff2feb536b7d0bc22a8be1fe4cb7130</td>\n",
       "      <td>24</td>\n",
       "      <td>294</td>\n",
       "      <td>12.250000</td>\n",
       "      <td>2</td>\n",
       "      <td>7</td>\n",
       "      <td>157.74</td>\n",
       "      <td>0</td>\n",
       "      <td>3.50</td>\n",
       "      <td>78.870</td>\n",
       "      <td>0.0</td>\n",
       "    </tr>\n",
       "    <tr>\n",
       "      <th>27069</th>\n",
       "      <td>fff4a17c770ec48e1666f568c3b5705f</td>\n",
       "      <td>25</td>\n",
       "      <td>208</td>\n",
       "      <td>8.320000</td>\n",
       "      <td>2</td>\n",
       "      <td>2</td>\n",
       "      <td>71.13</td>\n",
       "      <td>0</td>\n",
       "      <td>1.00</td>\n",
       "      <td>35.565</td>\n",
       "      <td>0.0</td>\n",
       "    </tr>\n",
       "    <tr>\n",
       "      <th>27070</th>\n",
       "      <td>fff827b347b41e715d2b7bafd7fcbf42</td>\n",
       "      <td>14</td>\n",
       "      <td>69</td>\n",
       "      <td>4.928571</td>\n",
       "      <td>1</td>\n",
       "      <td>1</td>\n",
       "      <td>108.25</td>\n",
       "      <td>0</td>\n",
       "      <td>1.00</td>\n",
       "      <td>108.250</td>\n",
       "      <td>0.0</td>\n",
       "    </tr>\n",
       "    <tr>\n",
       "      <th>27071</th>\n",
       "      <td>fffe02767a16c18eff2f97b0cde8c076</td>\n",
       "      <td>18</td>\n",
       "      <td>580</td>\n",
       "      <td>32.222222</td>\n",
       "      <td>2</td>\n",
       "      <td>4</td>\n",
       "      <td>27.84</td>\n",
       "      <td>0</td>\n",
       "      <td>2.00</td>\n",
       "      <td>13.920</td>\n",
       "      <td>0.0</td>\n",
       "    </tr>\n",
       "  </tbody>\n",
       "</table>\n",
       "<p>27072 rows × 11 columns</p>\n",
       "</div>"
      ],
      "text/plain": [
       "                                user_id  session_count  minutes_sum  \\\n",
       "0      000254d704a2edf44dbb734e1b517561             86         1287   \n",
       "1      0005a756366f0d881a9af560d96a40bd             23          340   \n",
       "2      000864081fda5b7b5707db65c98b91ca             47          267   \n",
       "3      000fc876b4476bcc36af191951afb9b5             32          221   \n",
       "4      0013c370a3053b484111987677c77083              9          190   \n",
       "...                                 ...            ...          ...   \n",
       "27067  fff1ec4dde8167d39b7b7bb69924a690             13          280   \n",
       "27068  fff2feb536b7d0bc22a8be1fe4cb7130             24          294   \n",
       "27069  fff4a17c770ec48e1666f568c3b5705f             25          208   \n",
       "27070  fff827b347b41e715d2b7bafd7fcbf42             14           69   \n",
       "27071  fffe02767a16c18eff2f97b0cde8c076             18          580   \n",
       "\n",
       "       minutes_mean  order_count  items_tot  total_tot  returned_tot  \\\n",
       "0         14.965116            2         13     265.98             0   \n",
       "1         14.782609            4          7     432.98             0   \n",
       "2          5.680851            1          3      15.46             0   \n",
       "3          6.906250            1          1      71.13             0   \n",
       "4         21.111111            1          1       6.19             0   \n",
       "...             ...          ...        ...        ...           ...   \n",
       "27067     21.538462            5          7     182.46             0   \n",
       "27068     12.250000            2          7     157.74             0   \n",
       "27069      8.320000            2          2      71.13             0   \n",
       "27070      4.928571            1          1     108.25             0   \n",
       "27071     32.222222            2          4      27.84             0   \n",
       "\n",
       "       items_mean  total_mean  returned_mean  \n",
       "0            6.50     132.990            0.0  \n",
       "1            1.75     108.245            0.0  \n",
       "2            3.00      15.460            0.0  \n",
       "3            1.00      71.130            0.0  \n",
       "4            1.00       6.190            0.0  \n",
       "...           ...         ...            ...  \n",
       "27067        1.40      36.492            0.0  \n",
       "27068        3.50      78.870            0.0  \n",
       "27069        1.00      35.565            0.0  \n",
       "27070        1.00     108.250            0.0  \n",
       "27071        2.00      13.920            0.0  \n",
       "\n",
       "[27072 rows x 11 columns]"
      ]
     },
     "execution_count": 38,
     "metadata": {},
     "output_type": "execute_result"
    }
   ],
   "source": [
    "data_inner = pd.merge(visitors_agg,orders_agg,on='user_id')\n",
    "#data_left = pd.merge(left=visitors_agg, right=orders_agg, how='left', on='user_id')\n",
    "data_inner"
   ]
  },
  {
   "cell_type": "markdown",
   "metadata": {},
   "source": [
    "## If more time spent in app results in more purchase?\n",
    "Analyze mean, and total"
   ]
  },
  {
   "cell_type": "code",
   "execution_count": 39,
   "metadata": {},
   "outputs": [
    {
     "data": {
      "text/plain": [
       "<seaborn.axisgrid.FacetGrid at 0x7fac16d70a10>"
      ]
     },
     "execution_count": 39,
     "metadata": {},
     "output_type": "execute_result"
    },
    {
     "data": {
      "image/png": "[encoded data removed]",
      "text/plain": [
       "<Figure size 360x360 with 1 Axes>"
      ]
     },
     "metadata": {
      "needs_background": "light"
     },
     "output_type": "display_data"
    }
   ],
   "source": [
    "sns.relplot(x=\"minutes_mean\", y=\"total_mean\", data=data_inner)"
   ]
  },
  {
   "cell_type": "code",
   "execution_count": 40,
   "metadata": {},
   "outputs": [
    {
     "data": {
      "text/plain": [
       "<seaborn.axisgrid.FacetGrid at 0x7fabb3a5f0d0>"
      ]
     },
     "execution_count": 40,
     "metadata": {},
     "output_type": "execute_result"
    },
    {
     "data": {
      "image/png": "[encoded data removed]",
      "text/plain": [
       "<Figure size 360x360 with 1 Axes>"
      ]
     },
     "metadata": {
      "needs_background": "light"
     },
     "output_type": "display_data"
    }
   ],
   "source": [
    "sns.relplot(x=\"minutes_sum\", y=\"total_tot\", data=data_inner)"
   ]
  },
  {
   "cell_type": "markdown",
   "metadata": {},
   "source": [
    "Comments:\n",
    "- no obvious relationship between time spent and purchase amount"
   ]
  },
  {
   "cell_type": "code",
   "execution_count": 41,
   "metadata": {},
   "outputs": [
    {
     "data": {
      "text/html": [
       "<div>\n",
       "<style scoped>\n",
       "    .dataframe tbody tr th:only-of-type {\n",
       "        vertical-align: middle;\n",
       "    }\n",
       "\n",
       "    .dataframe tbody tr th {\n",
       "        vertical-align: top;\n",
       "    }\n",
       "\n",
       "    .dataframe thead th {\n",
       "        text-align: right;\n",
       "    }\n",
       "</style>\n",
       "<table border=\"1\" class=\"dataframe\">\n",
       "  <thead>\n",
       "    <tr style=\"text-align: right;\">\n",
       "      <th></th>\n",
       "      <th>user_id</th>\n",
       "      <th>session_count</th>\n",
       "      <th>minutes_sum</th>\n",
       "      <th>minutes_mean</th>\n",
       "      <th>order_count</th>\n",
       "      <th>items_tot</th>\n",
       "      <th>total_tot</th>\n",
       "      <th>returned_tot</th>\n",
       "      <th>items_mean</th>\n",
       "      <th>total_mean</th>\n",
       "      <th>returned_mean</th>\n",
       "      <th>gender</th>\n",
       "    </tr>\n",
       "  </thead>\n",
       "  <tbody>\n",
       "    <tr>\n",
       "      <th>0</th>\n",
       "      <td>000254d704a2edf44dbb734e1b517561</td>\n",
       "      <td>86</td>\n",
       "      <td>1287</td>\n",
       "      <td>14.965116</td>\n",
       "      <td>2</td>\n",
       "      <td>13</td>\n",
       "      <td>265.98</td>\n",
       "      <td>0</td>\n",
       "      <td>6.50</td>\n",
       "      <td>132.990</td>\n",
       "      <td>0.0</td>\n",
       "      <td>F</td>\n",
       "    </tr>\n",
       "    <tr>\n",
       "      <th>1</th>\n",
       "      <td>0005a756366f0d881a9af560d96a40bd</td>\n",
       "      <td>23</td>\n",
       "      <td>340</td>\n",
       "      <td>14.782609</td>\n",
       "      <td>4</td>\n",
       "      <td>7</td>\n",
       "      <td>432.98</td>\n",
       "      <td>0</td>\n",
       "      <td>1.75</td>\n",
       "      <td>108.245</td>\n",
       "      <td>0.0</td>\n",
       "      <td>F</td>\n",
       "    </tr>\n",
       "    <tr>\n",
       "      <th>2</th>\n",
       "      <td>000864081fda5b7b5707db65c98b91ca</td>\n",
       "      <td>47</td>\n",
       "      <td>267</td>\n",
       "      <td>5.680851</td>\n",
       "      <td>1</td>\n",
       "      <td>3</td>\n",
       "      <td>15.46</td>\n",
       "      <td>0</td>\n",
       "      <td>3.00</td>\n",
       "      <td>15.460</td>\n",
       "      <td>0.0</td>\n",
       "      <td>M</td>\n",
       "    </tr>\n",
       "    <tr>\n",
       "      <th>3</th>\n",
       "      <td>000fc876b4476bcc36af191951afb9b5</td>\n",
       "      <td>32</td>\n",
       "      <td>221</td>\n",
       "      <td>6.906250</td>\n",
       "      <td>1</td>\n",
       "      <td>1</td>\n",
       "      <td>71.13</td>\n",
       "      <td>0</td>\n",
       "      <td>1.00</td>\n",
       "      <td>71.130</td>\n",
       "      <td>0.0</td>\n",
       "      <td>F</td>\n",
       "    </tr>\n",
       "    <tr>\n",
       "      <th>4</th>\n",
       "      <td>0013c370a3053b484111987677c77083</td>\n",
       "      <td>9</td>\n",
       "      <td>190</td>\n",
       "      <td>21.111111</td>\n",
       "      <td>1</td>\n",
       "      <td>1</td>\n",
       "      <td>6.19</td>\n",
       "      <td>0</td>\n",
       "      <td>1.00</td>\n",
       "      <td>6.190</td>\n",
       "      <td>0.0</td>\n",
       "      <td>M</td>\n",
       "    </tr>\n",
       "    <tr>\n",
       "      <th>...</th>\n",
       "      <td>...</td>\n",
       "      <td>...</td>\n",
       "      <td>...</td>\n",
       "      <td>...</td>\n",
       "      <td>...</td>\n",
       "      <td>...</td>\n",
       "      <td>...</td>\n",
       "      <td>...</td>\n",
       "      <td>...</td>\n",
       "      <td>...</td>\n",
       "      <td>...</td>\n",
       "      <td>...</td>\n",
       "    </tr>\n",
       "    <tr>\n",
       "      <th>27449</th>\n",
       "      <td>fff1ec4dde8167d39b7b7bb69924a690</td>\n",
       "      <td>13</td>\n",
       "      <td>280</td>\n",
       "      <td>21.538462</td>\n",
       "      <td>5</td>\n",
       "      <td>7</td>\n",
       "      <td>182.46</td>\n",
       "      <td>0</td>\n",
       "      <td>1.40</td>\n",
       "      <td>36.492</td>\n",
       "      <td>0.0</td>\n",
       "      <td>F</td>\n",
       "    </tr>\n",
       "    <tr>\n",
       "      <th>27450</th>\n",
       "      <td>fff2feb536b7d0bc22a8be1fe4cb7130</td>\n",
       "      <td>24</td>\n",
       "      <td>294</td>\n",
       "      <td>12.250000</td>\n",
       "      <td>2</td>\n",
       "      <td>7</td>\n",
       "      <td>157.74</td>\n",
       "      <td>0</td>\n",
       "      <td>3.50</td>\n",
       "      <td>78.870</td>\n",
       "      <td>0.0</td>\n",
       "      <td>F</td>\n",
       "    </tr>\n",
       "    <tr>\n",
       "      <th>27451</th>\n",
       "      <td>fff4a17c770ec48e1666f568c3b5705f</td>\n",
       "      <td>25</td>\n",
       "      <td>208</td>\n",
       "      <td>8.320000</td>\n",
       "      <td>2</td>\n",
       "      <td>2</td>\n",
       "      <td>71.13</td>\n",
       "      <td>0</td>\n",
       "      <td>1.00</td>\n",
       "      <td>35.565</td>\n",
       "      <td>0.0</td>\n",
       "      <td>F</td>\n",
       "    </tr>\n",
       "    <tr>\n",
       "      <th>27452</th>\n",
       "      <td>fff827b347b41e715d2b7bafd7fcbf42</td>\n",
       "      <td>14</td>\n",
       "      <td>69</td>\n",
       "      <td>4.928571</td>\n",
       "      <td>1</td>\n",
       "      <td>1</td>\n",
       "      <td>108.25</td>\n",
       "      <td>0</td>\n",
       "      <td>1.00</td>\n",
       "      <td>108.250</td>\n",
       "      <td>0.0</td>\n",
       "      <td>F</td>\n",
       "    </tr>\n",
       "    <tr>\n",
       "      <th>27453</th>\n",
       "      <td>fffe02767a16c18eff2f97b0cde8c076</td>\n",
       "      <td>18</td>\n",
       "      <td>580</td>\n",
       "      <td>32.222222</td>\n",
       "      <td>2</td>\n",
       "      <td>4</td>\n",
       "      <td>27.84</td>\n",
       "      <td>0</td>\n",
       "      <td>2.00</td>\n",
       "      <td>13.920</td>\n",
       "      <td>0.0</td>\n",
       "      <td>M</td>\n",
       "    </tr>\n",
       "  </tbody>\n",
       "</table>\n",
       "<p>27454 rows × 12 columns</p>\n",
       "</div>"
      ],
      "text/plain": [
       "                                user_id  session_count  minutes_sum  \\\n",
       "0      000254d704a2edf44dbb734e1b517561             86         1287   \n",
       "1      0005a756366f0d881a9af560d96a40bd             23          340   \n",
       "2      000864081fda5b7b5707db65c98b91ca             47          267   \n",
       "3      000fc876b4476bcc36af191951afb9b5             32          221   \n",
       "4      0013c370a3053b484111987677c77083              9          190   \n",
       "...                                 ...            ...          ...   \n",
       "27449  fff1ec4dde8167d39b7b7bb69924a690             13          280   \n",
       "27450  fff2feb536b7d0bc22a8be1fe4cb7130             24          294   \n",
       "27451  fff4a17c770ec48e1666f568c3b5705f             25          208   \n",
       "27452  fff827b347b41e715d2b7bafd7fcbf42             14           69   \n",
       "27453  fffe02767a16c18eff2f97b0cde8c076             18          580   \n",
       "\n",
       "       minutes_mean  order_count  items_tot  total_tot  returned_tot  \\\n",
       "0         14.965116            2         13     265.98             0   \n",
       "1         14.782609            4          7     432.98             0   \n",
       "2          5.680851            1          3      15.46             0   \n",
       "3          6.906250            1          1      71.13             0   \n",
       "4         21.111111            1          1       6.19             0   \n",
       "...             ...          ...        ...        ...           ...   \n",
       "27449     21.538462            5          7     182.46             0   \n",
       "27450     12.250000            2          7     157.74             0   \n",
       "27451      8.320000            2          2      71.13             0   \n",
       "27452      4.928571            1          1     108.25             0   \n",
       "27453     32.222222            2          4      27.84             0   \n",
       "\n",
       "       items_mean  total_mean  returned_mean gender  \n",
       "0            6.50     132.990            0.0      F  \n",
       "1            1.75     108.245            0.0      F  \n",
       "2            3.00      15.460            0.0      M  \n",
       "3            1.00      71.130            0.0      F  \n",
       "4            1.00       6.190            0.0      M  \n",
       "...           ...         ...            ...    ...  \n",
       "27449        1.40      36.492            0.0      F  \n",
       "27450        3.50      78.870            0.0      F  \n",
       "27451        1.00      35.565            0.0      F  \n",
       "27452        1.00     108.250            0.0      F  \n",
       "27453        2.00      13.920            0.0      M  \n",
       "\n",
       "[27454 rows x 12 columns]"
      ]
     },
     "execution_count": 41,
     "metadata": {},
     "output_type": "execute_result"
    }
   ],
   "source": [
    "visitors_select = visitors[[\"user_id\", \"gender\"]].drop_duplicates()\n",
    "\n",
    "data_inner = pd.merge(data_inner,visitors_select,on='user_id')\n",
    "data_inner\n",
    "\n",
    "# 27072 rows < 27454 rows when adding gender column, user input wrong data"
   ]
  },
  {
   "cell_type": "code",
   "execution_count": 42,
   "metadata": {},
   "outputs": [
    {
     "data": {
      "image/png": "[encoded data removed]",
      "text/plain": [
       "<Figure size 1296x432 with 2 Axes>"
      ]
     },
     "metadata": {
      "needs_background": "light"
     },
     "output_type": "display_data"
    }
   ],
   "source": [
    "# Visualization: Total spending mean VS different gender\n",
    "\n",
    "fig, ax = plt.subplots(nrows=1, ncols=2, figsize=(18, 6))\n",
    "sns.countplot(x='gender', hue=\"gender\", data=data_inner, ax=ax[0])\n",
    "ax[0].set_title('Count of gender', fontsize=16)\n",
    "\n",
    "sns.barplot(x='gender', y='total_mean', hue=\"gender\", data=data_inner, ax=ax[1])\n",
    "ax[1].set_title('Total spending mean per gender', fontsize=16)\n",
    "plt.tight_layout()\n",
    "plt.show()"
   ]
  },
  {
   "cell_type": "code",
   "execution_count": 43,
   "metadata": {},
   "outputs": [
    {
     "data": {
      "image/png": "[encoded data removed]",
      "text/plain": [
       "<Figure size 1296x432 with 2 Axes>"
      ]
     },
     "metadata": {
      "needs_background": "light"
     },
     "output_type": "display_data"
    }
   ],
   "source": [
    "# Visualization: Total returned_mean VS different gender\n",
    "\n",
    "fig, ax = plt.subplots(nrows=1, ncols=2, figsize=(18, 6))\n",
    "sns.countplot(x='gender', hue=\"gender\", data=data_inner, ax=ax[0])\n",
    "ax[0].set_title('Count of gender', fontsize=16)\n",
    "\n",
    "sns.barplot(x='gender', y='items_mean', hue=\"gender\", data=data_inner, ax=ax[1])\n",
    "ax[1].set_title('Total items_mean per gender', fontsize=16)\n",
    "plt.tight_layout()\n",
    "plt.show()\n"
   ]
  },
  {
   "cell_type": "code",
   "execution_count": 44,
   "metadata": {},
   "outputs": [
    {
     "data": {
      "image/png": "[encoded data removed]",
      "text/plain": [
       "<Figure size 1296x432 with 2 Axes>"
      ]
     },
     "metadata": {
      "needs_background": "light"
     },
     "output_type": "display_data"
    }
   ],
   "source": [
    "# Visualization: Total returned mean VS different gender\\\n",
    "\n",
    "fig, ax = plt.subplots(nrows=1, ncols=2, figsize=(18, 6))\n",
    "sns.countplot(x='gender', hue=\"gender\", data=data_inner, ax=ax[0])\n",
    "ax[0].set_title('Count of gender', fontsize=16)\n",
    "\n",
    "sns.barplot(x='gender', y='returned_mean', hue=\"gender\", data=data_inner, ax=ax[1])\n",
    "ax[1].set_title('Total returned_mean per gender', fontsize=16)\n",
    "plt.tight_layout()\n",
    "plt.show()"
   ]
  },
  {
   "cell_type": "code",
   "execution_count": 45,
   "metadata": {},
   "outputs": [
    {
     "data": {
      "text/html": [
       "<div>\n",
       "<style scoped>\n",
       "    .dataframe tbody tr th:only-of-type {\n",
       "        vertical-align: middle;\n",
       "    }\n",
       "\n",
       "    .dataframe tbody tr th {\n",
       "        vertical-align: top;\n",
       "    }\n",
       "\n",
       "    .dataframe thead th {\n",
       "        text-align: right;\n",
       "    }\n",
       "</style>\n",
       "<table border=\"1\" class=\"dataframe\">\n",
       "  <thead>\n",
       "    <tr style=\"text-align: right;\">\n",
       "      <th></th>\n",
       "      <th>user_id</th>\n",
       "      <th>session_count</th>\n",
       "      <th>minutes_sum</th>\n",
       "      <th>minutes_mean</th>\n",
       "      <th>order_count</th>\n",
       "      <th>items_tot</th>\n",
       "      <th>total_tot</th>\n",
       "      <th>returned_tot</th>\n",
       "      <th>items_mean</th>\n",
       "      <th>total_mean</th>\n",
       "      <th>returned_mean</th>\n",
       "      <th>gender</th>\n",
       "      <th>year_born</th>\n",
       "    </tr>\n",
       "  </thead>\n",
       "  <tbody>\n",
       "    <tr>\n",
       "      <th>0</th>\n",
       "      <td>000254d704a2edf44dbb734e1b517561</td>\n",
       "      <td>86</td>\n",
       "      <td>1287</td>\n",
       "      <td>14.965116</td>\n",
       "      <td>2</td>\n",
       "      <td>13</td>\n",
       "      <td>265.98</td>\n",
       "      <td>0</td>\n",
       "      <td>6.50</td>\n",
       "      <td>132.990</td>\n",
       "      <td>0.0</td>\n",
       "      <td>F</td>\n",
       "      <td>2000</td>\n",
       "    </tr>\n",
       "    <tr>\n",
       "      <th>1</th>\n",
       "      <td>0005a756366f0d881a9af560d96a40bd</td>\n",
       "      <td>23</td>\n",
       "      <td>340</td>\n",
       "      <td>14.782609</td>\n",
       "      <td>4</td>\n",
       "      <td>7</td>\n",
       "      <td>432.98</td>\n",
       "      <td>0</td>\n",
       "      <td>1.75</td>\n",
       "      <td>108.245</td>\n",
       "      <td>0.0</td>\n",
       "      <td>F</td>\n",
       "      <td>1995</td>\n",
       "    </tr>\n",
       "    <tr>\n",
       "      <th>2</th>\n",
       "      <td>000864081fda5b7b5707db65c98b91ca</td>\n",
       "      <td>47</td>\n",
       "      <td>267</td>\n",
       "      <td>5.680851</td>\n",
       "      <td>1</td>\n",
       "      <td>3</td>\n",
       "      <td>15.46</td>\n",
       "      <td>0</td>\n",
       "      <td>3.00</td>\n",
       "      <td>15.460</td>\n",
       "      <td>0.0</td>\n",
       "      <td>M</td>\n",
       "      <td>1993</td>\n",
       "    </tr>\n",
       "    <tr>\n",
       "      <th>3</th>\n",
       "      <td>000fc876b4476bcc36af191951afb9b5</td>\n",
       "      <td>32</td>\n",
       "      <td>221</td>\n",
       "      <td>6.906250</td>\n",
       "      <td>1</td>\n",
       "      <td>1</td>\n",
       "      <td>71.13</td>\n",
       "      <td>0</td>\n",
       "      <td>1.00</td>\n",
       "      <td>71.130</td>\n",
       "      <td>0.0</td>\n",
       "      <td>F</td>\n",
       "      <td>1998</td>\n",
       "    </tr>\n",
       "    <tr>\n",
       "      <th>4</th>\n",
       "      <td>0013c370a3053b484111987677c77083</td>\n",
       "      <td>9</td>\n",
       "      <td>190</td>\n",
       "      <td>21.111111</td>\n",
       "      <td>1</td>\n",
       "      <td>1</td>\n",
       "      <td>6.19</td>\n",
       "      <td>0</td>\n",
       "      <td>1.00</td>\n",
       "      <td>6.190</td>\n",
       "      <td>0.0</td>\n",
       "      <td>M</td>\n",
       "      <td>1996</td>\n",
       "    </tr>\n",
       "    <tr>\n",
       "      <th>...</th>\n",
       "      <td>...</td>\n",
       "      <td>...</td>\n",
       "      <td>...</td>\n",
       "      <td>...</td>\n",
       "      <td>...</td>\n",
       "      <td>...</td>\n",
       "      <td>...</td>\n",
       "      <td>...</td>\n",
       "      <td>...</td>\n",
       "      <td>...</td>\n",
       "      <td>...</td>\n",
       "      <td>...</td>\n",
       "      <td>...</td>\n",
       "    </tr>\n",
       "    <tr>\n",
       "      <th>27965</th>\n",
       "      <td>fff1ec4dde8167d39b7b7bb69924a690</td>\n",
       "      <td>13</td>\n",
       "      <td>280</td>\n",
       "      <td>21.538462</td>\n",
       "      <td>5</td>\n",
       "      <td>7</td>\n",
       "      <td>182.46</td>\n",
       "      <td>0</td>\n",
       "      <td>1.40</td>\n",
       "      <td>36.492</td>\n",
       "      <td>0.0</td>\n",
       "      <td>F</td>\n",
       "      <td>1999</td>\n",
       "    </tr>\n",
       "    <tr>\n",
       "      <th>27966</th>\n",
       "      <td>fff2feb536b7d0bc22a8be1fe4cb7130</td>\n",
       "      <td>24</td>\n",
       "      <td>294</td>\n",
       "      <td>12.250000</td>\n",
       "      <td>2</td>\n",
       "      <td>7</td>\n",
       "      <td>157.74</td>\n",
       "      <td>0</td>\n",
       "      <td>3.50</td>\n",
       "      <td>78.870</td>\n",
       "      <td>0.0</td>\n",
       "      <td>F</td>\n",
       "      <td>2002</td>\n",
       "    </tr>\n",
       "    <tr>\n",
       "      <th>27967</th>\n",
       "      <td>fff4a17c770ec48e1666f568c3b5705f</td>\n",
       "      <td>25</td>\n",
       "      <td>208</td>\n",
       "      <td>8.320000</td>\n",
       "      <td>2</td>\n",
       "      <td>2</td>\n",
       "      <td>71.13</td>\n",
       "      <td>0</td>\n",
       "      <td>1.00</td>\n",
       "      <td>35.565</td>\n",
       "      <td>0.0</td>\n",
       "      <td>F</td>\n",
       "      <td>2001</td>\n",
       "    </tr>\n",
       "    <tr>\n",
       "      <th>27968</th>\n",
       "      <td>fff827b347b41e715d2b7bafd7fcbf42</td>\n",
       "      <td>14</td>\n",
       "      <td>69</td>\n",
       "      <td>4.928571</td>\n",
       "      <td>1</td>\n",
       "      <td>1</td>\n",
       "      <td>108.25</td>\n",
       "      <td>0</td>\n",
       "      <td>1.00</td>\n",
       "      <td>108.250</td>\n",
       "      <td>0.0</td>\n",
       "      <td>F</td>\n",
       "      <td>1975</td>\n",
       "    </tr>\n",
       "    <tr>\n",
       "      <th>27969</th>\n",
       "      <td>fffe02767a16c18eff2f97b0cde8c076</td>\n",
       "      <td>18</td>\n",
       "      <td>580</td>\n",
       "      <td>32.222222</td>\n",
       "      <td>2</td>\n",
       "      <td>4</td>\n",
       "      <td>27.84</td>\n",
       "      <td>0</td>\n",
       "      <td>2.00</td>\n",
       "      <td>13.920</td>\n",
       "      <td>0.0</td>\n",
       "      <td>M</td>\n",
       "      <td>1996</td>\n",
       "    </tr>\n",
       "  </tbody>\n",
       "</table>\n",
       "<p>27970 rows × 13 columns</p>\n",
       "</div>"
      ],
      "text/plain": [
       "                                user_id  session_count  minutes_sum  \\\n",
       "0      000254d704a2edf44dbb734e1b517561             86         1287   \n",
       "1      0005a756366f0d881a9af560d96a40bd             23          340   \n",
       "2      000864081fda5b7b5707db65c98b91ca             47          267   \n",
       "3      000fc876b4476bcc36af191951afb9b5             32          221   \n",
       "4      0013c370a3053b484111987677c77083              9          190   \n",
       "...                                 ...            ...          ...   \n",
       "27965  fff1ec4dde8167d39b7b7bb69924a690             13          280   \n",
       "27966  fff2feb536b7d0bc22a8be1fe4cb7130             24          294   \n",
       "27967  fff4a17c770ec48e1666f568c3b5705f             25          208   \n",
       "27968  fff827b347b41e715d2b7bafd7fcbf42             14           69   \n",
       "27969  fffe02767a16c18eff2f97b0cde8c076             18          580   \n",
       "\n",
       "       minutes_mean  order_count  items_tot  total_tot  returned_tot  \\\n",
       "0         14.965116            2         13     265.98             0   \n",
       "1         14.782609            4          7     432.98             0   \n",
       "2          5.680851            1          3      15.46             0   \n",
       "3          6.906250            1          1      71.13             0   \n",
       "4         21.111111            1          1       6.19             0   \n",
       "...             ...          ...        ...        ...           ...   \n",
       "27965     21.538462            5          7     182.46             0   \n",
       "27966     12.250000            2          7     157.74             0   \n",
       "27967      8.320000            2          2      71.13             0   \n",
       "27968      4.928571            1          1     108.25             0   \n",
       "27969     32.222222            2          4      27.84             0   \n",
       "\n",
       "       items_mean  total_mean  returned_mean gender  year_born  \n",
       "0            6.50     132.990            0.0      F       2000  \n",
       "1            1.75     108.245            0.0      F       1995  \n",
       "2            3.00      15.460            0.0      M       1993  \n",
       "3            1.00      71.130            0.0      F       1998  \n",
       "4            1.00       6.190            0.0      M       1996  \n",
       "...           ...         ...            ...    ...        ...  \n",
       "27965        1.40      36.492            0.0      F       1999  \n",
       "27966        3.50      78.870            0.0      F       2002  \n",
       "27967        1.00      35.565            0.0      F       2001  \n",
       "27968        1.00     108.250            0.0      F       1975  \n",
       "27969        2.00      13.920            0.0      M       1996  \n",
       "\n",
       "[27970 rows x 13 columns]"
      ]
     },
     "execution_count": 45,
     "metadata": {},
     "output_type": "execute_result"
    }
   ],
   "source": [
    "visitors_select = visitors[[\"user_id\", \"year_born\"]].drop_duplicates()\n",
    "\n",
    "data_inner = pd.merge(data_inner,visitors_select,on='user_id')\n",
    "\n",
    "data_inner"
   ]
  },
  {
   "cell_type": "code",
   "execution_count": 46,
   "metadata": {},
   "outputs": [
    {
     "data": {
      "image/png": "[encoded data removed]",
      "text/plain": [
       "<Figure size 1296x432 with 1 Axes>"
      ]
     },
     "metadata": {
      "needs_background": "light"
     },
     "output_type": "display_data"
    }
   ],
   "source": [
    "\n",
    "# Visualization: count VS different year born\n",
    "fig, ax = plt.subplots(nrows=1, ncols=1, figsize=(18, 6))\n",
    "\n",
    "sns.countplot(x='year_born', data=data_inner, ax=ax)\n",
    "ax.set_title('Count of year_born', fontsize=16)\n",
    "\n",
    "plt.tight_layout()\n",
    "plt.show()"
   ]
  },
  {
   "cell_type": "code",
   "execution_count": 47,
   "metadata": {},
   "outputs": [
    {
     "data": {
      "image/png": "[encoded data removed]",
      "text/plain": [
       "<Figure size 1296x432 with 1 Axes>"
      ]
     },
     "metadata": {
      "needs_background": "light"
     },
     "output_type": "display_data"
    }
   ],
   "source": [
    "# Visualization: Mean spending mean VS different year born\n",
    "fig, ax = plt.subplots(nrows=1, ncols=1, figsize=(18, 6))\n",
    "\n",
    "sns.barplot(x='year_born', y='total_mean', data=data_inner, ax=ax)\n",
    "ax.set_title('Total spending mean per year_born', fontsize=16)\n",
    "plt.tight_layout()\n",
    "plt.show()"
   ]
  },
  {
   "cell_type": "code",
   "execution_count": 48,
   "metadata": {},
   "outputs": [
    {
     "data": {
      "image/png": "[encoded data removed]",
      "text/plain": [
       "<Figure size 1296x432 with 1 Axes>"
      ]
     },
     "metadata": {
      "needs_background": "light"
     },
     "output_type": "display_data"
    }
   ],
   "source": [
    "# Visualization: Total returned mean VS different year born\n",
    "fig, ax = plt.subplots(nrows=1, ncols=1, figsize=(18, 6))\n",
    "\n",
    "sns.barplot(x='year_born', y='returned_mean', data=data_inner, ax=ax)\n",
    "ax.set_title('Total returned mean per year_born', fontsize=16)\n",
    "plt.tight_layout()\n",
    "plt.show()"
   ]
  },
  {
   "cell_type": "markdown",
   "metadata": {},
   "source": [
    "Comments\n",
    "1. gender study\n",
    "- gender does not have a big effect on average spending\n",
    "- F bought more items than M on averages\n",
    "2. age study\n",
    "- young buyers on average have more returns; elder people almost never return\n",
    "- born in 1960s spend most on average\n"
   ]
  },
  {
   "cell_type": "markdown",
   "metadata": {},
   "source": [
    "Future works could be done:\n",
    "\n",
    "- Based on dataframe data_inner, we can build a ML model to see the relation between Xs (gender/ session_count /minutes_sum /minutes_mean) and Ys (order_count /items_tot /total_tot/returned_tot /items_mean /total_mean/returned_mean)\n",
    "- We can left join visitors_agg by orders_agg, and analyze how many times users spent on the app but don't end up buying anything, and how does that compared with users who end up buying something (  #data_left = pd.merge(left=visitors_agg, right=orders_agg, how='left', on='user_id') )\n"
   ]
  },
  {
   "cell_type": "code",
   "execution_count": null,
   "metadata": {},
   "outputs": [],
   "source": []
  },
  {
   "cell_type": "markdown",
   "metadata": {},
   "source": [
    "\n"
   ]
  }
 ],
 "metadata": {
  "kernelspec": {
   "display_name": "Python 3",
   "language": "python",
   "name": "python3"
  },
  "language_info": {
   "codemirror_mode": {
    "name": "ipython",
    "version": 3
   },
   "file_extension": ".py",
   "mimetype": "text/x-python",
   "name": "python",
   "nbconvert_exporter": "python",
   "pygments_lexer": "ipython3",
   "version": "3.7.7"
  }
 },
 "nbformat": 4,
 "nbformat_minor": 4
}
